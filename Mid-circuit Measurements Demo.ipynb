{
 "cells": [
  {
   "cell_type": "code",
   "execution_count": null,
   "id": "28ccb602",
   "metadata": {},
   "outputs": [],
   "source": [
    "%matplotlib inline"
   ]
  },
  {
   "cell_type": "markdown",
   "id": "a0f5e93a",
   "metadata": {},
   "source": [
    "<b>Mid Circuit Measurements: Stepping Stone to Quantum Error Correction</b>\n",
    "\n",
    "Every day, powerful fault-tolerent quantum computers are getting one step closer. In this tutorial, you'll learn about a key ingredient in fault-tolerant quantum computing: <i>mid-circuit measurements</it> or MCMs. A MCM is the process of performing some gates on some qubits, measuring some of the qubits and then peforming more gates.\n",
    "<br>\n",
    "ADD A SIMPLE ILLUSTRATION OF MCM IN THE PENNYLANE STYLE\n",
    "    \n",
    "At first glance, MCMs might not seem that important. But they are. Perhaps the biggest reason why is quantum error correction: the process of using extra qubits to detect and correct the inevitable errors that happen in quantum computers.\n",
    "\n",
    "Error correction is essential to making fault-tolerant quantum computers that can solve important real-world problems. And MCMs are a vital part of quantum error correction.\n",
    "\n",
    "Now that you know why MCM matters, let’s get dive in!"
   ]
  },
  {
   "cell_type": "markdown",
   "id": "ad33ce05",
   "metadata": {},
   "source": [
    "<b>Toy example of MCM</b> <br>\n",
    "In PennyLane, a mid-circuit measurement is done using <a href=\"https://docs.pennylane.ai/en/stable/code/api/pennylane.measure.html\">qml.measure</a>.\n",
    "Let’s see it in action a simple example involving a single qubit. Consider the following sequence of operations: <br>\n",
    "1. Perform a Hadamard gate on the qubit.<br> This evolves the state from the initial state |0> to |0>+|1><br>\n",
    "2. Perform a mid-circuit measurement on the qubit in the computational basis.<br>  Fifty percent (50%) of the time, this makes the state collapse to |0>. The other 50% of the time, it collapses to |1>. The post-measurment state is the mixed state ρ = ½(|0><0| + |1><1|). Note that this just the identity matrix divided by two.<br>\n",
    "3. Perform a PauliX gate on the qubit.<br>This leaves the state unchanged.<br> \n",
    "4. Measure the expectation value of the qubit in the Pauli X basis.<br>This yields a result of zero. The identity matrix is an equal mixture of the states $| + \\rangle$ and $| - \\rangle$.\n",
    "\n",
    "\n"
   ]
  },
  {
   "cell_type": "code",
   "execution_count": 1,
   "id": "9d3658b7",
   "metadata": {},
   "outputs": [
    {
     "name": "stdout",
     "output_type": "stream",
     "text": [
      "The expectation value of X is: 0.00\n"
     ]
    },
    {
     "data": {
      "image/png": "[encoded data removed]",
      "text/plain": [
       "<Figure size 432x144 with 1 Axes>"
      ]
     },
     "metadata": {},
     "output_type": "display_data"
    }
   ],
   "source": [
    "import pennylane as qml\n",
    "\n",
    "dev = qml.device('default.qubit',wires=1) \n",
    "\n",
    "@qml.qnode(dev)\n",
    "def circuit():\n",
    "    qml.Hadamard(wires=0)\n",
    "    qml.measure(wires=0)\n",
    "    qml.PauliX(wires=0)\n",
    "    return qml.expval(qml.PauliX(0))\n",
    "\n",
    "qml.draw_mpl(circuit)()\n",
    "\n",
    "print(f\"The expectation value of X is: {circuit():.2f}\")"
   ]
  },
  {
   "cell_type": "markdown",
   "id": "95ccd758",
   "metadata": {},
   "source": [
    "Notice that the expectation value of X is zero. That’s because qml.measure “collapses” the superposition state $|0\\rangle + |1\\rangle$ to a mixed state that's an equal mixture of two eigenstates of the PauliX operator. "
   ]
  },
  {
   "cell_type": "markdown",
   "id": "1a264a2d",
   "metadata": {},
   "source": [
    "<b>Conditional Operations and Feed Forward</b><br>\n",
    "At this point, you might be wondering what the use of MCM is. How does it make quantum computations better? To answer this question, let me introduce the idea of conditional operations. That is, making an MCM and only performing some other operation <i>if</i> the measurement result is a certain value. This is illustrated below.\n",
    "\n",
    "INSERT PENNYLANE IMAGE OF CONDITIONAL OPERATION PROCESS.\n",
    "\n",
    "Let’s look at an example. Consider the following sequence of operations performed on two qubits:<br>\n",
    "1. Perform a Hadamard gate on the first qubit. This evolves the state from the initial state |0>|0> to (|0>+|1>)|0><br>\n",
    "2. Perform a mid-circuit measurement on the first qubit. The state evolves to the mixed state ρ = ½(|00><00| + |10><10|)<br>\n",
    "3. If the measurement result was 1 (i.e., we measured the state |1>), then perform a PauliX on the first qubit. If it was 0, (i.e., we measured the state |0>), then do nothing.\n",
    "This evolves the state to the pure state |0>|0>.<br>\n",
    "4. Measure the expectation value of the qubit in the Pauli Z basis. This yields a result of -1.\n",
    "\n",
    "In PennyLane, conditional operations are done using qml.cond"
   ]
  },
  {
   "cell_type": "code",
   "execution_count": 2,
   "id": "f01fff86",
   "metadata": {},
   "outputs": [
    {
     "name": "stdout",
     "output_type": "stream",
     "text": [
      "The expectation value of Z is: 1.00\n"
     ]
    },
    {
     "data": {
      "image/png": "[encoded data removed]",
      "text/plain": [
       "<Figure size 600x275 with 1 Axes>"
      ]
     },
     "metadata": {},
     "output_type": "display_data"
    }
   ],
   "source": [
    "@qml.qnode(dev)\n",
    "def conditional_circuit():\n",
    "    qml.Hadamard(wires=0)\n",
    "    mcm = qml.measure(wires=0)\n",
    "    qml.cond(mcm,qml.PauliX)(wires=0)\n",
    "    return qml.expval(qml.PauliZ(0))\n",
    "\n",
    "qml.draw_mpl(conditional_circuit)()\n",
    "\n",
    "print(f\"The expectation value of Z is: {conditional_circuit():.2f}\")"
   ]
  },
  {
   "cell_type": "markdown",
   "id": "b9248966",
   "metadata": {},
   "source": [
    "Notice how the state after the MCM was a pure state. But, after the conditional operation, it went back to being a pure state. "
   ]
  },
  {
   "cell_type": "markdown",
   "id": "a090d249",
   "metadata": {},
   "source": [
    "<b>Quantum Error Correction</b><br>\n",
    "Still not impressed? Let’s go deeper and see how you can use MCMs to help implement quantum error correction.\n",
    "\n",
    "Quantum error correction starts by encoding a qubit into across multiple qubits. Here’s an example:\n",
    "\n",
    "$|0>_{L} = |000>$\n",
    "\n",
    "$|1>_{L} = |111>$\n",
    "\n",
    "The L’s subscripts stand for “logical” and represent the fact that the two states are logical states.\n",
    "\n",
    "\n",
    "This error correction code is designed to protect qubits against errors where the value of one of the qubits flips. These are called bit-flip errors."
   ]
  },
  {
   "cell_type": "code",
   "execution_count": 3,
   "id": "5d1779e6",
   "metadata": {},
   "outputs": [],
   "source": [
    "import numpy as np\n",
    "\n",
    "dev2 = qml.device(\"default.mixed\",wires=5)\n",
    "\n",
    "#parameters that define the initial qubit state that we want to protect against errors\n",
    "alpha = 1/(2**0.5) \n",
    "beta = 1/(2**0.5)\n",
    "\n",
    "state = np.array([alpha,beta])\n",
    "\n",
    "#Encode the qubit across three physical qubits\n",
    "def logical_encoding(state):\n",
    "    qml.QubitStateVector(state,wires=0)\n",
    "    qml.CNOT([0,1])\n",
    "    qml.CNOT([1,2])"
   ]
  },
  {
   "cell_type": "markdown",
   "id": "d430e8a5",
   "metadata": {},
   "source": [
    "Let’s consider the simplified case where we only have bit flip errors on qubits 2 and 3. They each occur with a probability of p. (Later on, we’ll set p to 0.05.)\n",
    "\n",
    "We can implement these errors using PennyLane’s.BitFlip class:"
   ]
  },
  {
   "cell_type": "code",
   "execution_count": 4,
   "id": "a477c289",
   "metadata": {},
   "outputs": [],
   "source": [
    "def BitFlipErrorChannel(p):\n",
    "    for i in range(2):\n",
    "        qml.BitFlip(p,wires=i)"
   ]
  },
  {
   "cell_type": "markdown",
   "id": "9541226b",
   "metadata": {},
   "source": [
    "Finally, let’s define the complete circuit that implements error correction."
   ]
  },
  {
   "cell_type": "code",
   "execution_count": 5,
   "id": "8b9089ce",
   "metadata": {},
   "outputs": [
    {
     "data": {
      "text/plain": [
       "(<Figure size 900x600 with 1 Axes>, <Axes: >)"
      ]
     },
     "execution_count": 5,
     "metadata": {},
     "output_type": "execute_result"
    },
    {
     "data": {
      "image/png": "[encoded data removed]",
      "text/plain": [
       "<Figure size 900x600 with 1 Axes>"
      ]
     },
     "metadata": {},
     "output_type": "display_data"
    }
   ],
   "source": [
    "@qml.qnode(dev2)\n",
    "def circuit(state,p):\n",
    "    logical_encoding(state)\n",
    "    BitFlipErrorChannel(p)\n",
    "\n",
    "    mcm_ancilla_0 = qml.measure(3)\n",
    "    qml.cond(mcm_ancilla_0,qml.PauliX)(1)\n",
    "\n",
    "    mcm_ancilla_1 = qml.measure(4)\n",
    "    qml.cond(mcm_ancilla_1,qml.PauliX)(2)\n",
    "\n",
    "    return qml.probs([0,1,2])\n",
    "\n",
    "qml.draw_mpl(circuit)(np.array([2**(-0.5),2**(-0.5)]),0.05)"
   ]
  },
  {
   "cell_type": "markdown",
   "id": "a6377c1c",
   "metadata": {},
   "source": [
    "And, finally, let’s actually run the circuit!"
   ]
  },
  {
   "cell_type": "code",
   "execution_count": 6,
   "id": "f1434c42",
   "metadata": {
    "scrolled": true
   },
   "outputs": [
    {
     "name": "stdout",
     "output_type": "stream",
     "text": [
      "The probability of measuring 000 is 0.451\n",
      "The probability of measuring 001 is 0.001\n",
      "The probability of measuring 010 is 0.024\n",
      "The probability of measuring 011 is 0.024\n",
      "The probability of measuring 100 is 0.024\n",
      "The probability of measuring 101 is 0.024\n",
      "The probability of measuring 110 is 0.001\n",
      "The probability of measuring 111 is 0.451\n"
     ]
    }
   ],
   "source": [
    "wiresList = [0,1,2,3,4]\n",
    "\n",
    "c = circuit(state,0.05)\n",
    "\n",
    "for i in range(8):\n",
    "    print(f\"The probability of measuring {i:03b} is {c[i]:.3f}\")"
   ]
  },
  {
   "cell_type": "markdown",
   "id": "04a7a447",
   "metadata": {},
   "source": [
    "\n",
    "Notice how the probabilities of 000 and 111 are close to the probabilities in the original single-qubit state of 0.5 (=$[1/\\sqrt{2}]^{2}$). Why aren't they exactly 0.5? It's because there's a small chance (5% x 5% = 0.25%) that bit flip errors will occur on <i>both</i> the second and the third qubits. When this happens, our simple error correction scheme no longer works."
   ]
  },
  {
   "cell_type": "markdown",
   "id": "848c9355",
   "metadata": {},
   "source": [
    "<b>Conclusion</b><br>\n",
    "In this demo, you've learnt that:<br>\n",
    "-  You can perform mid-circuit measurements (MCMs) using qml.measure<br>\n",
    "-  You can perform an operation conditioned on the result of an MCM using qml.cond<br>\n",
    "-  You can use MCM's (and conditional operations) to help implement quantum error correction."
   ]
  },
  {
   "cell_type": "code",
   "execution_count": null,
   "id": "532fdd2f",
   "metadata": {},
   "outputs": [],
   "source": []
  }
 ],
 "metadata": {
  "kernelspec": {
   "display_name": "Python 3 (ipykernel)",
   "language": "python",
   "name": "python3"
  },
  "language_info": {
   "codemirror_mode": {
    "name": "ipython",
    "version": 3
   },
   "file_extension": ".py",
   "mimetype": "text/x-python",
   "name": "python",
   "nbconvert_exporter": "python",
   "pygments_lexer": "ipython3",
   "version": "3.9.12"
  }
 },
 "nbformat": 4,
 "nbformat_minor": 5
}
