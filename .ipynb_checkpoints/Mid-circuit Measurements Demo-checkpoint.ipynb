{
 "cells": [
  {
   "cell_type": "code",
   "execution_count": null,
   "id": "28ccb602",
   "metadata": {},
   "outputs": [],
   "source": [
    "%matplotlib inline"
   ]
  },
  {
   "cell_type": "markdown",
   "id": "a0f5e93a",
   "metadata": {},
   "source": [
    "<b>Mid-circuit Measurements: Stepping Stone to Quantum Error Correction</b>\n",
    "\n",
    "Fault-tolerent quantum computers are the holy grail of quantum computing. In this tutorial, you'll learn about a key ingredient in fault-tolerant quantum computation: <i>mid-circuit measurements</i> or MCMs. <br><br>\n",
    "Typically, a quantum computation proceeds as follows:<br>\n",
    "1. prepare some qubits in the $| 0 \\rangle$ state, \n",
    "2. perform some gates on them, and \n",
    "3. measure the qubits in the computational basis.\n",
    "<br>\n",
    "<img src=\"standard_quantum_circuit.png\" alt=\"Drawing\" style=\"width: 300px;\"/>\n",
    "<br>    \n",
    "\n",
    "With an MCM, we perform a measurement in the middle of step 2. That is, we do some gates, measure some of the qubits, and then do more gates.<br>\n",
    "\n",
    "<img src=\"quantum_circuit_with_MCM.png\" alt=\"Drawing\" style=\"width: 300px;\"/>\n",
    "<br>   \n",
    "At first glance, MCMs might not seem that important. But they are. Perhaps the biggest reason why is quantum error correction: the process of using extra qubits to detect and correct the errors that happen in quantum computers. Error correction is essential to making fault-tolerant quantum computers that can solve important real-world problems. And MCMs are a vital part of quantum error correction. Now that you know why MCMs matters, let’s dive in!"
   ]
  },
  {
   "cell_type": "markdown",
   "id": "ad33ce05",
   "metadata": {},
   "source": [
    "<b>Toy example of an MCM</b> <br>\n",
    "In PennyLane, a mid-circuit measurement is done using <a href=\"https://docs.pennylane.ai/en/stable/code/api/pennylane.measure.html\">qml.measure()</a>.\n",
    "Let’s see it in action in a simple example with a single qubit. Consider the following sequence of operations: <br>\n",
    "1. Rotat the qubit by an angle of $\\pi/3$ about the y axis.<br> This evolves the state from the initial state $|0\\rangle$ to $\\frac{\\sqrt{3}}{2} |0\\rangle + \\frac{1}{2} |1\\rangle$<br>\n",
    "2. Perform a mid-circuit measurement on the qubit in the computational basis.<br> This destroys the pure state and evolves it to the mixed state $\\rho = \\frac{3}{4} |0\\rangle \\langle 0| + \\frac{1}{4} |1\\rangle \\langle 1|$. <br>\n",
    "3. Perform a Pauli-$X$ gate on the qubit.<br>This evolves the state to $\\rho = \\frac{1}{4} |0\\rangle \\langle 0| + \\frac{3}{4} |1\\rangle \\langle 1|$<br> \n",
    "4. Measure the expectation value of the qubit in the computational basis.\n",
    "<br>\n"
   ]
  },
  {
   "cell_type": "code",
   "execution_count": 1,
   "id": "9d3658b7",
   "metadata": {},
   "outputs": [
    {
     "name": "stdout",
     "output_type": "stream",
     "text": [
      "The expectation value of Z is: -0.50\n"
     ]
    },
    {
     "data": {
      "image/png": "[encoded data removed]",
      "text/plain": [
       "<Figure size 432x144 with 1 Axes>"
      ]
     },
     "metadata": {},
     "output_type": "display_data"
    }
   ],
   "source": [
    "import pennylane as qml\n",
    "from pennylane import numpy as np\n",
    "\n",
    "dev = qml.device('default.qubit',wires=1) \n",
    "\n",
    "@qml.qnode(dev)\n",
    "def circuit():\n",
    "    qml.RY(np.pi/3,wires=0)\n",
    "    qml.measure(wires=0)\n",
    "    qml.PauliX(wires=0)\n",
    "    return qml.expval(qml.PauliZ(0))\n",
    "\n",
    "qml.draw_mpl(circuit)()\n",
    "\n",
    "print(f\"The expectation value of Z is: {circuit():.2f}\")"
   ]
  },
  {
   "cell_type": "markdown",
   "id": "0c62f8c7",
   "metadata": {},
   "source": [
    "The expectation value of $Z$ is -0.5 as (1/4) (+1) + (3/4) (-1) = -0.5."
   ]
  },
  {
   "cell_type": "markdown",
   "id": "1a264a2d",
   "metadata": {},
   "source": [
    "<b>Conditional Operations</b><br>\n",
    "At this point, you might be wondering what the use of MCMs is. How do they make quantum computations better? To answer this question, let's introduce the idea of a conditional operation. That is, making an MCM and only performing some other operation <i>if</i> the measurement result is a certain value. This is illustrated below.<br>\n",
    "<img src=\"conditional_operation.png\" alt=\"Drawing\" style=\"width: 300px;\"/>\n",
    "<br>\n",
    "The double lines from the MCM to the red square represent performing some gate on the middle qubit <i>if</i> the result of the MCM is some particular value (e.g., +1). \n",
    "<br>\n",
    "\n",
    "Let’s look at a concrete example of a conditional operation. Consider the following sequence of operations performed on two qubits:<br>\n",
    "1. Perform a Hadamard gate on the first qubit. This evolves the state from the initial state $|0\\rangle|0\\rangle$ to $\\frac{1}{\\sqrt{2}} \\left( |0\\rangle |0\\rangle + |1\\rangle |0\\rangle \\right)$<br>\n",
    "2. Perform a mid-circuit measurement on the first qubit. The state evolves to the mixed state $\\rho = \\frac{1}{2} \\left( |00\\rangle \\langle 00| + |10\\rangle \\langle 10| \\right)$ <br>\n",
    "3. If we measure the state |1>, then perform a Pauli-$X$ gate on the second qubit. If we measure the state |0>, then do nothing.\n",
    "This evolves the state to $\\rho = \\frac{1}{2} \\left( |00\\rangle \\langle 00| + |11\\rangle \\langle 11| \\right)$.<br>\n",
    "4. Measure the expectation value of $Z_{0} Z_{1}$.\n",
    "\n",
    "In PennyLane, conditional operations are done using <a href= \"https://docs.pennylane.ai/en/stable/code/api/pennylane.cond.html\"> qml.cond()<a/>"
   ]
  },
  {
   "cell_type": "code",
   "execution_count": 2,
   "id": "f01fff86",
   "metadata": {},
   "outputs": [
    {
     "name": "stdout",
     "output_type": "stream",
     "text": [
      "The expectation value of Z_0 Z_1 is: 1.00\n"
     ]
    },
    {
     "data": {
      "image/png": "[encoded data removed]",
      "text/plain": [
       "<Figure size 600x375 with 1 Axes>"
      ]
     },
     "metadata": {},
     "output_type": "display_data"
    }
   ],
   "source": [
    "dev2 = qml.device('default.qubit',wires=2) \n",
    "\n",
    "@qml.qnode(dev2)\n",
    "def conditional_circuit():\n",
    "    qml.Hadamard(wires=0)\n",
    "    mcm = qml.measure(wires=0)\n",
    "    qml.cond(mcm,qml.PauliX)(wires=1)\n",
    "    return qml.expval(qml.PauliZ(0) @ qml.PauliZ(1))\n",
    "\n",
    "qml.draw_mpl(conditional_circuit)()\n",
    "\n",
    "print(f\"The expectation value of Z_{0} Z_{1} is: {conditional_circuit():.2f}\")"
   ]
  },
  {
   "cell_type": "markdown",
   "id": "b9248966",
   "metadata": {},
   "source": [
    "The final measurement result is +1 as $|00 \\rangle \\langle 00 |$ gives $Z_{0}Z_{1} = (+1)(+1) =+1$ and $|11 \\rangle \\langle 11 |$ gives $Z_{0}Z_{1} = (-1)(-1) =+1$."
   ]
  },
  {
   "cell_type": "markdown",
   "id": "a090d249",
   "metadata": {},
   "source": [
    "<b>Quantum Error Correction</b><br>\n",
    "Still not impressed? Let’s go deeper and see how you can use MCMs to help implement quantum error correction.\n",
    "\n",
    "Quantum error correction starts by encoding a qubit into across multiple qubits. Here’s an example:\n",
    "\n",
    "$|0>_{L} = |000>$\n",
    "\n",
    "$|1>_{L} = |111>$\n",
    "\n",
    "The $L$ subscripts stand for “logical” and represent the fact that the two states are logical qubit states. "
   ]
  },
  {
   "cell_type": "code",
   "execution_count": 3,
   "id": "5d1779e6",
   "metadata": {},
   "outputs": [],
   "source": [
    "import numpy as np\n",
    "\n",
    "dev3 = qml.device(\"default.mixed\",wires=5)\n",
    "\n",
    "#parameters that define the initial qubit state that we want to protect against errors\n",
    "alpha = 1/(2**0.5) \n",
    "beta = 1/(2**0.5)\n",
    "\n",
    "state = np.array([alpha,beta])\n",
    "\n",
    "#Encode the qubit across three physical qubits\n",
    "def logical_encoding(state):\n",
    "    qml.QubitStateVector(state,wires=0)\n",
    "    qml.CNOT([0,1])\n",
    "    qml.CNOT([1,2])"
   ]
  },
  {
   "cell_type": "markdown",
   "id": "d430e8a5",
   "metadata": {},
   "source": [
    "The error correction code that we'll talk about protects against errors that flip the states of qubits from $| 0 \\rangle$ to $|1\\rangle$ and vice-versa. They're called bit-flip errors.  Let’s consider the simplified case where we only have bit flip errors on the second and third qubits (i.e., qubits 1 and 2) &nbsp; [1]. They each occur with a probability of $p$. (Later on, we’ll set $p$ to 0.05.) We can implement them using PennyLane’s <a href =\"https://docs.pennylane.ai/en/stable/code/api/pennylane.BitFlip.html\"> BitFlip class</a>:"
   ]
  },
  {
   "cell_type": "code",
   "execution_count": 4,
   "id": "a477c289",
   "metadata": {},
   "outputs": [],
   "source": [
    "def BitFlipErrorChannel(p):\n",
    "    for i in range(2):\n",
    "        qml.BitFlip(p,wires=i)"
   ]
  },
  {
   "cell_type": "markdown",
   "id": "9541226b",
   "metadata": {},
   "source": [
    "Finally, let’s define the complete circuit that implements the error correction."
   ]
  },
  {
   "cell_type": "code",
   "execution_count": 5,
   "id": "8b9089ce",
   "metadata": {},
   "outputs": [],
   "source": [
    "@qml.qnode(dev3)\n",
    "def circuit(state,p):\n",
    "    logical_encoding(state)\n",
    "    BitFlipErrorChannel(p)\n",
    "\n",
    "    mcm_ancilla_0 = qml.measure(3)\n",
    "    qml.cond(mcm_ancilla_0,qml.PauliX)(1)\n",
    "\n",
    "    mcm_ancilla_1 = qml.measure(4)\n",
    "    qml.cond(mcm_ancilla_1,qml.PauliX)(2)\n",
    "\n",
    "    return qml.probs([0,1,2])"
   ]
  },
  {
   "cell_type": "markdown",
   "id": "a6377c1c",
   "metadata": {},
   "source": [
    "The first MCM is on qubit 3. If it measures $| 1 \\rangle$, we know that a bit-flip error occurred on qubit 1. So, we perform a conditional Pauli-$X$ gate on qubit 1 if the MCM yields $| 1 \\rangle$. The second MCM works in the same way---except that it's on qubit 4 and we perform a conditional Pauli-$X$ gate on qubit 2. (For the full details on why the scheme works, see Section IV of &nbsp; [1].)\n",
    "\n",
    "And, now, let’s actually run the circuit!"
   ]
  },
  {
   "cell_type": "code",
   "execution_count": 6,
   "id": "f1434c42",
   "metadata": {
    "scrolled": true
   },
   "outputs": [
    {
     "name": "stdout",
     "output_type": "stream",
     "text": [
      "The probability of measuring 000 is 0.451\n",
      "The probability of measuring 001 is 0.001\n",
      "The probability of measuring 010 is 0.024\n",
      "The probability of measuring 011 is 0.024\n",
      "The probability of measuring 100 is 0.024\n",
      "The probability of measuring 101 is 0.024\n",
      "The probability of measuring 110 is 0.001\n",
      "The probability of measuring 111 is 0.451\n"
     ]
    }
   ],
   "source": [
    "c = circuit(state,0.05)\n",
    "\n",
    "for i in range(8):\n",
    "    print(f\"The probability of measuring {i:03b} is {c[i]:.3f}\")"
   ]
  },
  {
   "cell_type": "markdown",
   "id": "f0f7c02a",
   "metadata": {},
   "source": [
    "Let's compare these results to the original logical-qubit state of $\\frac{1}{\\sqrt{2}} \\left( |000\\rangle + |111\\rangle \\right)$:"
   ]
  },
  {
   "cell_type": "code",
   "execution_count": 7,
   "id": "93aba719",
   "metadata": {},
   "outputs": [
    {
     "name": "stdout",
     "output_type": "stream",
     "text": [
      "The probability of measuring 000 is 0.500\n",
      "The probability of measuring 001 is 0.000\n",
      "The probability of measuring 010 is 0.000\n",
      "The probability of measuring 011 is 0.000\n",
      "The probability of measuring 100 is 0.000\n",
      "The probability of measuring 101 is 0.000\n",
      "The probability of measuring 110 is 0.000\n",
      "The probability of measuring 111 is 0.500\n"
     ]
    }
   ],
   "source": [
    "@qml.qnode(dev3)\n",
    "def initial_state_circuit(state):\n",
    "    logical_encoding(state)\n",
    "    return qml.probs([0,1,2])\n",
    "\n",
    "d = initial_state_circuit(state)\n",
    "\n",
    "for i in range(8):\n",
    "    print(f\"The probability of measuring {i:03b} is {d[i]:.3f}\")"
   ]
  },
  {
   "cell_type": "markdown",
   "id": "04a7a447",
   "metadata": {},
   "source": [
    "As you can see, the probabilities of the states $|000\\rangle$ and $|111\\rangle$ in both circuits are close. This shows that the error-correction scheme works well. Why aren't the error-corrected probabilities exactly 0.5? That's because there's a small chance (5% x 5% = 0.25%) that bit flip errors will occur on <i>both</i> the second and the third qubits. When this happens, our simple error correction scheme no longer works."
   ]
  },
  {
   "cell_type": "markdown",
   "id": "848c9355",
   "metadata": {},
   "source": [
    "<b>Conclusion</b><br>\n",
    "In this demo, you've learnt that:<br>\n",
    "-  You can perform mid-circuit measurements (MCMs) using qml.measure<br>\n",
    "-  You can perform an operation conditioned on the result of an MCM using qml.cond<br>\n",
    "-  You can use MCM's (and conditional operations) to help implement quantum error correction in fault-tolerant quantum computers.\n",
    "<br>\n",
    "\n",
    "\n",
    "<b>Note</b><br>\n",
    "The images in this notebook have been adapted from PennyLane's <a href=\"https://pennylane.ai/qml/demos/tutorial_measurement_optimize/\">Measurement Optimization</a> tutorial.\n",
    "<br>"
   ]
  },
  {
   "cell_type": "markdown",
   "id": "cba2d7e8",
   "metadata": {},
   "source": [
    "<b>References</b><br>\n",
    "[1] The error correction scheme discussed is a simplified version of the full scheme in Section IV of Simon J. Devitt, Kae Nemoto, William J. Munro, \"Quantum Error Correction for Beginners\", Rep. Prog. Phys. 76 (2013) 076001 and <a href=\"https://arxiv.org/abs/0905.2794\"> arXiv:0905.2794</a>"
   ]
  }
 ],
 "metadata": {
  "kernelspec": {
   "display_name": "Python 3 (ipykernel)",
   "language": "python",
   "name": "python3"
  },
  "language_info": {
   "codemirror_mode": {
    "name": "ipython",
    "version": 3
   },
   "file_extension": ".py",
   "mimetype": "text/x-python",
   "name": "python",
   "nbconvert_exporter": "python",
   "pygments_lexer": "ipython3",
   "version": "3.9.12"
  }
 },
 "nbformat": 4,
 "nbformat_minor": 5
}
